{
 "cells": [
  {
   "cell_type": "code",
   "execution_count": 1,
   "id": "cb582c5a-f250-484b-997a-ef5aa109fc43",
   "metadata": {},
   "outputs": [],
   "source": [
    "import numpy as np\n",
    "import random\n",
    "import matplotlib.pyplot as plt"
   ]
  },
  {
   "cell_type": "code",
   "execution_count": 2,
   "id": "fc9f39a3-9f57-45d8-98e4-758d37ace221",
   "metadata": {},
   "outputs": [],
   "source": [
    "grid_width = 5\n",
    "grid_height = 5\n",
    "start_state = (0,0)\n",
    "cheese_state = (4,4)\n",
    "trap_states = [(1,1), (2,2), (3,3)]"
   ]
  },
  {
   "cell_type": "code",
   "execution_count": 3,
   "id": "14777f2f-68f1-4a52-9ed7-81faf7ec844b",
   "metadata": {},
   "outputs": [],
   "source": [
    "actions = [(0,-1), (0,1), (-1,0), (1,0)]\n",
    "action_names = ['Up', 'Down', 'Left', 'Right']"
   ]
  },
  {
   "cell_type": "code",
   "execution_count": 4,
   "id": "d89e45bb-4465-47f5-8ac3-94d22c3aac9d",
   "metadata": {},
   "outputs": [],
   "source": [
    "q_table = np.zeros((grid_width, grid_height, len(actions)))"
   ]
  },
  {
   "cell_type": "code",
   "execution_count": 5,
   "id": "03cff51b-add6-4700-a067-a687826449ce",
   "metadata": {},
   "outputs": [
    {
     "data": {
      "text/plain": [
       "array([[[0., 0., 0., 0.],\n",
       "        [0., 0., 0., 0.],\n",
       "        [0., 0., 0., 0.],\n",
       "        [0., 0., 0., 0.],\n",
       "        [0., 0., 0., 0.]],\n",
       "\n",
       "       [[0., 0., 0., 0.],\n",
       "        [0., 0., 0., 0.],\n",
       "        [0., 0., 0., 0.],\n",
       "        [0., 0., 0., 0.],\n",
       "        [0., 0., 0., 0.]],\n",
       "\n",
       "       [[0., 0., 0., 0.],\n",
       "        [0., 0., 0., 0.],\n",
       "        [0., 0., 0., 0.],\n",
       "        [0., 0., 0., 0.],\n",
       "        [0., 0., 0., 0.]],\n",
       "\n",
       "       [[0., 0., 0., 0.],\n",
       "        [0., 0., 0., 0.],\n",
       "        [0., 0., 0., 0.],\n",
       "        [0., 0., 0., 0.],\n",
       "        [0., 0., 0., 0.]],\n",
       "\n",
       "       [[0., 0., 0., 0.],\n",
       "        [0., 0., 0., 0.],\n",
       "        [0., 0., 0., 0.],\n",
       "        [0., 0., 0., 0.],\n",
       "        [0., 0., 0., 0.]]])"
      ]
     },
     "execution_count": 5,
     "metadata": {},
     "output_type": "execute_result"
    }
   ],
   "source": [
    "q_table"
   ]
  },
  {
   "cell_type": "code",
   "execution_count": 6,
   "id": "9e99e18d-cf24-46eb-af75-1e2a8a6f388d",
   "metadata": {},
   "outputs": [],
   "source": [
    "#hyperparameter\n",
    "epoch = 1000\n",
    "max_steps = 100\n",
    "learning_rate = 0.8\n",
    "discount_factor = 0.9\n",
    "exploration_prob = 0.2"
   ]
  },
  {
   "cell_type": "code",
   "execution_count": 7,
   "id": "d1c56358-38c4-4fd9-8430-319cfdfc0831",
   "metadata": {},
   "outputs": [],
   "source": [
    "#store the total reward value each time the exploration ended in each iteration\n",
    "total_reward_each_epoch = [] "
   ]
  },
  {
   "cell_type": "code",
   "execution_count": 8,
   "id": "298d4099-d153-416e-b512-2069ba5b9359",
   "metadata": {},
   "outputs": [],
   "source": [
    "#function epsilon-greedy\n",
    "def choose_action(state):\n",
    "    if(random.uniform(0,1) < exploration_prob):\n",
    "        return random.randint(0,len(actions) - 1)\n",
    "    else:\n",
    "        return np.argmax(q_table[state])"
   ]
  },
  {
   "cell_type": "code",
   "execution_count": 9,
   "id": "72b66f5a-f716-47d7-ba6d-06671adb7566",
   "metadata": {},
   "outputs": [],
   "source": [
    "#Q-Learning\n",
    "for episode in range(epoch):\n",
    "    state = start_state\n",
    "    done = False\n",
    "    episode_rewards = 0\n",
    "    \n",
    "    for step in range(max_steps):\n",
    "        action_index = choose_action(state)\n",
    "        action = actions[action_index]\n",
    "        \n",
    "        new_state = (state[0] + action[0], state[1] + action[1])\n",
    "        \n",
    "        if(0<= new_state[0] < grid_width and 0<= new_state[1]< grid_height):\n",
    "            if(new_state == cheese_state):\n",
    "                reward = 100\n",
    "                done = True\n",
    "            elif(new_state == trap_states):\n",
    "                reward = -10\n",
    "                done = True\n",
    "            else:\n",
    "                reward = -1\n",
    "            episode_rewards += reward\n",
    "            q_table[state][action_index] += (learning_rate*(reward+discount_factor*np.max(q_table[new_state]) - q_table[state][action_index]))\n",
    "            state = new_state\n",
    "        if done:\n",
    "            break\n",
    "    total_reward_each_epoch.append(episode_rewards)"
   ]
  },
  {
   "cell_type": "code",
   "execution_count": 24,
   "id": "55aa8234-4cb7-4e3f-978a-ab34ae88c6c8",
   "metadata": {},
   "outputs": [
    {
     "name": "stdout",
     "output_type": "stream",
     "text": [
      "Cheese found!\n",
      "Mouse Needed : 14 steps\n"
     ]
    }
   ],
   "source": [
    "#testing\n",
    "state = start_state\n",
    "path_x = [state[0]]\n",
    "path_y = [state[1]]\n",
    "steps = 0\n",
    "\n",
    "while state != cheese_state and steps < max_steps:\n",
    "    action_index = choose_action(state)\n",
    "    action = actions[action_index]\n",
    "    new_state = (state[0] + action[0], state[1] + action[1])\n",
    "    \n",
    "    if(0<= new_state[0] < grid_width and 0<= new_state[1]< grid_height):\n",
    "        state = new_state\n",
    "        path_x.append(state[0])\n",
    "        path_y.append(state[1])\n",
    "        steps += 1\n",
    "    else:\n",
    "        break\n",
    "        \n",
    "if(new_state == cheese_state):\n",
    "    print(\"Cheese found!\")\n",
    "else:\n",
    "    print(\"mouse doesn't get the cheese\")\n",
    "    \n",
    "print(f'Mouse Needed : {steps} steps')"
   ]
  },
  {
   "cell_type": "code",
   "execution_count": 27,
   "id": "a5b4d386-25af-4a44-9e7a-f686c61a6bec",
   "metadata": {},
   "outputs": [
    {
     "data": {
      "image/png": "[encoded data removed]",
      "text/plain": [
       "<Figure size 720x720 with 1 Axes>"
      ]
     },
     "metadata": {
      "needs_background": "light"
     },
     "output_type": "display_data"
    }
   ],
   "source": [
    "plt.figure(figsize=(10,10))\n",
    "plt.plot(path_x, path_y, marker = 'o', linestyle='-')\n",
    "plt.xlim(0, grid_width-1)\n",
    "plt.ylim(0,grid_height-1)\n",
    "plt.gca().invert_yaxis()\n",
    "plt.grid(True)\n",
    "plt.show()"
   ]
  },
  {
   "cell_type": "code",
   "execution_count": null,
   "id": "dd8e4e31-f170-4cdb-b676-4c0686e239b8",
   "metadata": {},
   "outputs": [],
   "source": []
  }
 ],
 "metadata": {
  "kernelspec": {
   "display_name": "Python 3 (ipykernel)",
   "language": "python",
   "name": "python3"
  },
  "language_info": {
   "codemirror_mode": {
    "name": "ipython",
    "version": 3
   },
   "file_extension": ".py",
   "mimetype": "text/x-python",
   "name": "python",
   "nbconvert_exporter": "python",
   "pygments_lexer": "ipython3",
   "version": "3.9.0"
  }
 },
 "nbformat": 4,
 "nbformat_minor": 5
}
