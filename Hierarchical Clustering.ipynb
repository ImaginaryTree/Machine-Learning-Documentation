{
 "cells": [
  {
   "cell_type": "markdown",
   "id": "81f599bf-2b44-4286-b9b9-88bb75bb6f1c",
   "metadata": {},
   "source": [
    "# Hierarchical clustering"
   ]
  },
  {
   "cell_type": "markdown",
   "id": "3790f461-91d9-434e-92c8-a0ee0d5d2b3d",
   "metadata": {},
   "source": [
    "### Ciri - ciri HC\n",
    "1. Menggunakan jarak antar cluster dalam pengelompokan suatu data seperti Manhattan atau Eucledian Distance\n",
    "2. membandingkan setiap jarak pada kedua titik mengunakan Linkage method"
   ]
  },
  {
   "cell_type": "markdown",
   "id": "3dedb816-dd3b-46ee-b919-71891a5d4788",
   "metadata": {},
   "source": [
    "### Linkage Method\n",
    "Linkage method adalah cara untuk menghitung jarak antara dua cluster dalam hierarchical clustering. Ada beberapa macam linkage method yang umum digunakan, yaitu:\n",
    "1. Single linkage: Menggunakan jarak terpendek antara dua titik yang masing-masing berasal dari dua cluster yang berbeda.\n",
    "2. Complete linkage: Menggunakan jarak terpanjang antara dua titik yang masing-masing berasal dari dua cluster yang berbeda.\n",
    "3. Average linkage: Menggunakan rata-rata jarak antara semua pasangan titik yang masing-masing berasal dari dua cluster yang berbeda.\n",
    "4. Centroid linkage: Menggunakan jarak antara centroid (titik pusat) dari dua cluster yang berbeda."
   ]
  },
  {
   "cell_type": "code",
   "execution_count": null,
   "id": "39b7d498-7a1a-4031-a632-46d36ece057e",
   "metadata": {},
   "outputs": [],
   "source": []
  }
 ],
 "metadata": {
  "kernelspec": {
   "display_name": "Python 3 (ipykernel)",
   "language": "python",
   "name": "python3"
  },
  "language_info": {
   "codemirror_mode": {
    "name": "ipython",
    "version": 3
   },
   "file_extension": ".py",
   "mimetype": "text/x-python",
   "name": "python",
   "nbconvert_exporter": "python",
   "pygments_lexer": "ipython3",
   "version": "3.9.0"
  }
 },
 "nbformat": 4,
 "nbformat_minor": 5
}
